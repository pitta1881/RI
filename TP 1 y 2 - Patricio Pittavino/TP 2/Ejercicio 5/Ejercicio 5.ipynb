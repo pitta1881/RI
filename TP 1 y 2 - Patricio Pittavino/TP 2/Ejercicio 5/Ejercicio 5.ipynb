{
 "cells": [
  {
   "cell_type": "markdown",
   "id": "762aa70c",
   "metadata": {},
   "source": [
    "# Docs\n",
    "\n",
    "https://pyterrier.readthedocs.io"
   ]
  },
  {
   "cell_type": "markdown",
   "id": "d4501b4f",
   "metadata": {},
   "source": [
    "# Usage"
   ]
  },
  {
   "cell_type": "code",
   "execution_count": 1,
   "id": "b2d02823",
   "metadata": {},
   "outputs": [
    {
     "name": "stderr",
     "output_type": "stream",
     "text": [
      "PyTerrier 0.10.0 has loaded Terrier 5.8 (built by pitta on 2024-04-03 16:14) and terrier-helper 0.0.8\n",
      "\n"
     ]
    }
   ],
   "source": [
    "import pandas as pd\n",
    "import scipy\n",
    "import numpy as np\n",
    "import matplotlib.pyplot as plt\n",
    "import pyterrier as pt\n",
    "import os\n",
    "\n",
    "if not pt.started():\n",
    "  pt.init()"
   ]
  },
  {
   "cell_type": "markdown",
   "id": "1199026b",
   "metadata": {},
   "source": [
    "### Indexing"
   ]
  },
  {
   "cell_type": "code",
   "execution_count": 2,
   "id": "632e302c",
   "metadata": {},
   "outputs": [
    {
     "data": {
      "text/plain": [
       "['../wiki-small\\\\en\\\\articles\\\\(\\\\1\\\\5\\\\(15810)_1994_JR1_9064.html',\n",
       " '../wiki-small\\\\en\\\\articles\\\\0\\\\_\\\\(\\\\0_(number).html',\n",
       " '../wiki-small\\\\en\\\\articles\\\\1\\\\,\\\\5\\\\1,5-anhydro-D-fructose_reductase_0c7b.html',\n",
       " '../wiki-small\\\\en\\\\articles\\\\1\\\\0\\\\0\\\\100th_Anniversary_deb0.html',\n",
       " '../wiki-small\\\\en\\\\articles\\\\1\\\\0\\\\4\\\\10440_van_Swinden_fef9.html',\n",
       " '../wiki-small\\\\en\\\\articles\\\\1\\\\0\\\\7\\\\10769_Minas_Gerais_900d.html',\n",
       " '../wiki-small\\\\en\\\\articles\\\\1\\\\0\\\\9\\\\109P_Swift-Tuttle_8861.html',\n",
       " '../wiki-small\\\\en\\\\articles\\\\1\\\\1\\\\1\\\\1110s_BC_4367.html',\n",
       " '../wiki-small\\\\en\\\\articles\\\\1\\\\1\\\\2\\\\1127_Mimi_6c39.html',\n",
       " '../wiki-small\\\\en\\\\articles\\\\1\\\\1\\\\5\\\\1150.html']"
      ]
     },
     "execution_count": 2,
     "metadata": {},
     "output_type": "execute_result"
    }
   ],
   "source": [
    "files = pt.io.find_files(\"../wiki-small\")\n",
    "files[:10]"
   ]
  },
  {
   "cell_type": "code",
   "execution_count": 3,
   "id": "e70985f8",
   "metadata": {},
   "outputs": [
    {
     "name": "stdout",
     "output_type": "stream",
     "text": [
      "21:23:46.117 [main] ERROR org.terrier.structures.indexing.Indexer - Could not rename index\n",
      "java.io.IOException: Rename of index structure file 'f:\\UNLu\\Recuperacion de la Informacion\\TPs code\\TP2\\Ejercicio 5\\custom_index/data_1.direct.bf' (exists) to 'f:\\UNLu\\Recuperacion de la Informacion\\TPs code\\TP2\\Ejercicio 5\\custom_index/data.direct.bf' (exists) failed - likely that source file is still open. Possible indexing bug?\n",
      "\tat org.terrier.structures.IndexUtil.renameIndex(IndexUtil.java:379)\n",
      "\tat org.terrier.structures.indexing.Indexer.index(Indexer.java:388)\n"
     ]
    }
   ],
   "source": [
    "indexer = pt.FilesIndexer(os.path.abspath(\"./custom_index\"), verbose=True, overwrite=True, meta={\"docno\": 20, \"filename\":512})\n",
    "indexref = indexer.index(files)"
   ]
  },
  {
   "cell_type": "code",
   "execution_count": 4,
   "id": "5b4e0c7c",
   "metadata": {},
   "outputs": [
    {
     "name": "stdout",
     "output_type": "stream",
     "text": [
      "Number of documents: 6043\n",
      "Number of terms: 164940\n",
      "Number of postings: 1689407\n",
      "Number of fields: 0\n",
      "Number of tokens: 3128731\n",
      "Field names: []\n",
      "Positions:   false\n",
      "\n"
     ]
    }
   ],
   "source": [
    "# load the index, print the statistics\n",
    "index = pt.IndexFactory.of(indexref)\n",
    "print(index.getCollectionStatistics().toString())"
   ]
  },
  {
   "cell_type": "markdown",
   "id": "704af169",
   "metadata": {},
   "source": [
    "### Retrieval"
   ]
  },
  {
   "cell_type": "code",
   "execution_count": 5,
   "id": "4c58113a",
   "metadata": {},
   "outputs": [],
   "source": [
    "query1 = \"software\"\n",
    "query2 = \"tecnology in the high school\"\n",
    "query3 = \"ideas for design clothes\"\n",
    "query4 = \"why the sky is blue\"\n",
    "query5 = \"Alter ego of batman\""
   ]
  },
  {
   "cell_type": "code",
   "execution_count": 6,
   "id": "754bddb6",
   "metadata": {},
   "outputs": [],
   "source": [
    "# ad-hoc retrieval\n",
    "br_TF_IDF = pt.BatchRetrieve(index, wmodel=\"TF_IDF\", num_results=50, metadata=[\"docno\", \"filename\"]) # wmodel=\"BM25\", properties={\"termpipelines\" : \"Stopwords,PorterStemmer\"}\n",
    "vector_q1_TF_IDF = br_TF_IDF.search(query1)[\"docno\"]\n",
    "vector_q2_TF_IDF = br_TF_IDF.search(query2)[\"docno\"]\n",
    "vector_q3_TF_IDF = br_TF_IDF.search(query3)[\"docno\"]\n",
    "vector_q4_TF_IDF = br_TF_IDF.search(query4)[\"docno\"]\n",
    "vector_q5_TF_IDF = br_TF_IDF.search(query5)[\"docno\"]"
   ]
  },
  {
   "cell_type": "code",
   "execution_count": 7,
   "id": "bd1867c1",
   "metadata": {},
   "outputs": [],
   "source": [
    "# ad-hoc retrieval\n",
    "br_BM25 = pt.BatchRetrieve(index, wmodel=\"BM25\", num_results=50, metadata=[\"docno\", \"filename\"]) # wmodel=\"BM25\", properties={\"termpipelines\" : \"Stopwords,PorterStemmer\"}\n",
    "vector_q1_BM25 = br_BM25.search(query1)[\"docno\"]\n",
    "vector_q2_BM25 = br_BM25.search(query2)[\"docno\"]\n",
    "vector_q3_BM25 = br_BM25.search(query3)[\"docno\"]\n",
    "vector_q4_BM25 = br_BM25.search(query4)[\"docno\"]\n",
    "vector_q5_BM25 = br_BM25.search(query5)[\"docno\"]"
   ]
  },
  {
   "cell_type": "code",
   "execution_count": 8,
   "id": "b1fb1217",
   "metadata": {},
   "outputs": [
    {
     "data": {
      "text/html": [
       "<div>\n",
       "<style scoped>\n",
       "    .dataframe tbody tr th:only-of-type {\n",
       "        vertical-align: middle;\n",
       "    }\n",
       "\n",
       "    .dataframe tbody tr th {\n",
       "        vertical-align: top;\n",
       "    }\n",
       "\n",
       "    .dataframe thead th {\n",
       "        text-align: right;\n",
       "    }\n",
       "</style>\n",
       "<table border=\"1\" class=\"dataframe\">\n",
       "  <thead>\n",
       "    <tr style=\"text-align: right;\">\n",
       "      <th></th>\n",
       "      <th>Coef. Corr. q1</th>\n",
       "      <th>Coef. Corr. q2</th>\n",
       "      <th>Coef. Corr. q3</th>\n",
       "      <th>Coef. Corr. q4</th>\n",
       "      <th>Coef. Corr. q5</th>\n",
       "    </tr>\n",
       "  </thead>\n",
       "  <tbody>\n",
       "    <tr>\n",
       "      <th>@10</th>\n",
       "      <td>1.0</td>\n",
       "      <td>0.890909</td>\n",
       "      <td>0.769697</td>\n",
       "      <td>0.951515</td>\n",
       "      <td>1.000000</td>\n",
       "    </tr>\n",
       "    <tr>\n",
       "      <th>@25</th>\n",
       "      <td>1.0</td>\n",
       "      <td>0.972308</td>\n",
       "      <td>0.520000</td>\n",
       "      <td>0.832308</td>\n",
       "      <td>1.000000</td>\n",
       "    </tr>\n",
       "    <tr>\n",
       "      <th>@50</th>\n",
       "      <td>1.0</td>\n",
       "      <td>0.988379</td>\n",
       "      <td>0.087635</td>\n",
       "      <td>0.598559</td>\n",
       "      <td>0.829244</td>\n",
       "    </tr>\n",
       "  </tbody>\n",
       "</table>\n",
       "</div>"
      ],
      "text/plain": [
       "     Coef. Corr. q1  Coef. Corr. q2  Coef. Corr. q3  Coef. Corr. q4  \\\n",
       "@10             1.0        0.890909        0.769697        0.951515   \n",
       "@25             1.0        0.972308        0.520000        0.832308   \n",
       "@50             1.0        0.988379        0.087635        0.598559   \n",
       "\n",
       "     Coef. Corr. q5  \n",
       "@10        1.000000  \n",
       "@25        1.000000  \n",
       "@50        0.829244  "
      ]
     },
     "execution_count": 8,
     "metadata": {},
     "output_type": "execute_result"
    }
   ],
   "source": [
    "coef_spearman10_q1, _ = scipy.stats.spearmanr(vector_q1_TF_IDF[:10], vector_q1_BM25[:10])\n",
    "coef_spearman25_q1, _ = scipy.stats.spearmanr(vector_q1_TF_IDF[:25], vector_q1_BM25[:25])\n",
    "coef_spearman50_q1, _ = scipy.stats.spearmanr(vector_q1_TF_IDF[:50], vector_q1_BM25[:50])\n",
    "\n",
    "coef_spearman10_q2, _ = scipy.stats.spearmanr(vector_q2_TF_IDF[:10], vector_q2_BM25[:10])\n",
    "coef_spearman25_q2, _ = scipy.stats.spearmanr(vector_q2_TF_IDF[:25], vector_q2_BM25[:25])\n",
    "coef_spearman50_q2, _ = scipy.stats.spearmanr(vector_q2_TF_IDF[:50], vector_q2_BM25[:50])\n",
    "\n",
    "coef_spearman10_q3, _ = scipy.stats.spearmanr(vector_q3_TF_IDF[:10], vector_q3_BM25[:10])\n",
    "coef_spearman25_q3, _ = scipy.stats.spearmanr(vector_q3_TF_IDF[:25], vector_q3_BM25[:25])\n",
    "coef_spearman50_q3, _ = scipy.stats.spearmanr(vector_q3_TF_IDF[:50], vector_q3_BM25[:50])\n",
    "\n",
    "coef_spearman10_q4, _ = scipy.stats.spearmanr(vector_q4_TF_IDF[:10], vector_q4_BM25[:10])\n",
    "coef_spearman25_q4, _ = scipy.stats.spearmanr(vector_q4_TF_IDF[:25], vector_q4_BM25[:25])\n",
    "coef_spearman50_q4, _ = scipy.stats.spearmanr(vector_q4_TF_IDF[:50], vector_q4_BM25[:50])\n",
    "\n",
    "coef_spearman10_q5, _ = scipy.stats.spearmanr(vector_q5_TF_IDF[:10], vector_q5_BM25[:10])\n",
    "coef_spearman25_q5, _ = scipy.stats.spearmanr(vector_q5_TF_IDF[:25], vector_q5_BM25[:25])\n",
    "coef_spearman50_q5, _ = scipy.stats.spearmanr(vector_q5_TF_IDF[:50], vector_q5_BM25[:50])\n",
    "\n",
    "dataframes = [\n",
    "    pd.DataFrame([coef_spearman10_q1, coef_spearman25_q1, coef_spearman50_q1], index=[\"@10\", \"@25\", \"@50\"], columns=[\"Coef. Corr. q1\"]),\n",
    "    pd.DataFrame([coef_spearman10_q2, coef_spearman25_q2, coef_spearman50_q2], index=[\"@10\", \"@25\", \"@50\"], columns=[\"Coef. Corr. q2\"]),\n",
    "    pd.DataFrame([coef_spearman10_q3, coef_spearman25_q3, coef_spearman50_q3], index=[\"@10\", \"@25\", \"@50\"], columns=[\"Coef. Corr. q3\"]),\n",
    "    pd.DataFrame([coef_spearman10_q4, coef_spearman25_q4, coef_spearman50_q4], index=[\"@10\", \"@25\", \"@50\"], columns=[\"Coef. Corr. q4\"]),\n",
    "    pd.DataFrame([coef_spearman10_q5, coef_spearman25_q5, coef_spearman50_q5], index=[\"@10\", \"@25\", \"@50\"], columns=[\"Coef. Corr. q5\"])\n",
    "]\n",
    "\n",
    "df_merged = pd.concat(dataframes, axis=1)\n",
    "df_merged"
   ]
  },
  {
   "cell_type": "markdown",
   "id": "ab725276",
   "metadata": {},
   "source": [
    "Para las 5 querys, los primeros 10 puestos del ranking se comportan muy similares, mientras que en los primeros 25 la query 3 desvia la mitad de los documentos entre modelos, y finalmente para los 50, la query 3 solo coincide con 1 o 2 documentos entre modelos, la query 4 coinciden 60% de los documentos, las demas querys se comportan muy similares entre modelos."
   ]
  }
 ],
 "metadata": {
  "kernelspec": {
   "display_name": ".venv",
   "language": "python",
   "name": "python3"
  },
  "language_info": {
   "codemirror_mode": {
    "name": "ipython",
    "version": 3
   },
   "file_extension": ".py",
   "mimetype": "text/x-python",
   "name": "python",
   "nbconvert_exporter": "python",
   "pygments_lexer": "ipython3",
   "version": "3.11.9"
  }
 },
 "nbformat": 4,
 "nbformat_minor": 5
}
