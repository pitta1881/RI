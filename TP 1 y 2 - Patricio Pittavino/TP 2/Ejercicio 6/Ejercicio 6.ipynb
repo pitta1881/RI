{
 "cells": [
  {
   "cell_type": "code",
   "execution_count": 10,
   "metadata": {},
   "outputs": [],
   "source": [
    "import os\n",
    "import sys\n",
    "sys.path.append(os.path.abspath(\"../../shared\"))  # Agrega la carpeta al PYTHONPATH\n",
    "from tokenizer_v2 import tokenizer, loadFileStopWords\n",
    "from collections import Counter\n",
    "import math\n",
    "import pandas as pd"
   ]
  },
  {
   "cell_type": "code",
   "execution_count": 11,
   "metadata": {},
   "outputs": [],
   "source": [
    "# Directorio donde se encuentran los documentos de texto\n",
    "DIR = './collection'\n",
    "STOP_WORDS_FILE = '../../shared/stop-words.txt'\n",
    "stop_words_list = loadFileStopWords(STOP_WORDS_FILE)\n",
    "# palabras en comun en la collection: vida salud mundo importante recursos personas necesario sociedad cuidado humanos"
   ]
  },
  {
   "cell_type": "code",
   "execution_count": 12,
   "metadata": {},
   "outputs": [],
   "source": [
    "def calculate_tf(text, stop_words_list):\n",
    "    # Calcula el term frequency (frecuencia de término)\n",
    "    tokens = tokenizer(text, stop_words_list)\n",
    "    tf = Counter(tokens)\n",
    "    return {word: count for word, count in tf.items()}"
   ]
  },
  {
   "cell_type": "code",
   "execution_count": 13,
   "metadata": {},
   "outputs": [],
   "source": [
    "def build_index(directory, stop_words_list):\n",
    "    # Construye el índice invertido a partir de los documentos en el directorio\n",
    "    index = {}\n",
    "    for root, _, files in os.walk(directory):\n",
    "        for filename in files:\n",
    "            filepath = os.path.join(root, filename)\n",
    "            with open(filepath, 'r', encoding='utf-8') as file:\n",
    "                text = file.read()\n",
    "                tf = calculate_tf(text, stop_words_list)\n",
    "                index[filepath] = tf\n",
    "    return index"
   ]
  },
  {
   "cell_type": "code",
   "execution_count": 14,
   "metadata": {},
   "outputs": [],
   "source": [
    "def calculate_idf(documents):\n",
    "    # Calcula el inverse document frequency (frecuencia inversa de documento)\n",
    "    all_words = set(word for doc in documents for word in doc.keys())\n",
    "    idf = {}\n",
    "    total_documents = len(documents)\n",
    "    for word in all_words:\n",
    "        # Calcula el número de documentos que contienen el término\n",
    "        doc_count = sum(1 for doc in documents if word in doc)\n",
    "        idf[word] = math.log(total_documents / (1 + doc_count))\n",
    "    return idf\n",
    "\n",
    "def calculate_tf_idf(tf, idf):\n",
    "    # Calcula el tf-idf para un término\n",
    "    tf_idf = {word: tf_value * idf.get(word, 0) for word, tf_value in tf.items()}\n",
    "    return tf_idf\n"
   ]
  },
  {
   "cell_type": "code",
   "execution_count": 15,
   "metadata": {},
   "outputs": [],
   "source": [
    "def search(query, index, idf, stop_words_list):\n",
    "    # Busca documentos relevantes para la consulta utilizando el modelo vectorial\n",
    "    query_tf = calculate_tf(query, stop_words_list)\n",
    "    query_tf_idf = calculate_tf_idf(query_tf, idf)\n",
    "    scores = {}\n",
    "    for filepath, doc_tf in index.items():\n",
    "        score = sum(query_tf_idf.get(term, 0) * doc_tf.get(term, 0) for term in query_tf_idf.keys())\n",
    "        scores[filepath] = score\n",
    "    # Ordena los documentos por relevancia (puntuación)\n",
    "    ranked_documents = sorted(scores.items(), key=lambda x: x[1], reverse=True)\n",
    "    return ranked_documents"
   ]
  },
  {
   "cell_type": "code",
   "execution_count": 16,
   "metadata": {},
   "outputs": [],
   "source": [
    "# Construye el índice\n",
    "index = build_index(DIR, stop_words_list)"
   ]
  },
  {
   "cell_type": "code",
   "execution_count": 17,
   "metadata": {},
   "outputs": [],
   "source": [
    "# Calcula la IDF para los documentos\n",
    "idf = calculate_idf(index.values())"
   ]
  },
  {
   "cell_type": "code",
   "execution_count": 19,
   "metadata": {},
   "outputs": [
    {
     "name": "stdout",
     "output_type": "stream",
     "text": [
      "Query: 'mundo':\n"
     ]
    },
    {
     "data": {
      "text/html": [
       "<div>\n",
       "<style scoped>\n",
       "    .dataframe tbody tr th:only-of-type {\n",
       "        vertical-align: middle;\n",
       "    }\n",
       "\n",
       "    .dataframe tbody tr th {\n",
       "        vertical-align: top;\n",
       "    }\n",
       "\n",
       "    .dataframe thead th {\n",
       "        text-align: right;\n",
       "    }\n",
       "</style>\n",
       "<table border=\"1\" class=\"dataframe\">\n",
       "  <thead>\n",
       "    <tr style=\"text-align: right;\">\n",
       "      <th></th>\n",
       "      <th>filepath</th>\n",
       "      <th>score</th>\n",
       "    </tr>\n",
       "  </thead>\n",
       "  <tbody>\n",
       "    <tr>\n",
       "      <th>0</th>\n",
       "      <td>./collection\\tecnologia.txt</td>\n",
       "      <td>1.021651</td>\n",
       "    </tr>\n",
       "    <tr>\n",
       "      <th>1</th>\n",
       "      <td>./collection\\cultura.txt</td>\n",
       "      <td>0.510826</td>\n",
       "    </tr>\n",
       "    <tr>\n",
       "      <th>2</th>\n",
       "      <td>./collection\\educacion.txt</td>\n",
       "      <td>0.000000</td>\n",
       "    </tr>\n",
       "    <tr>\n",
       "      <th>3</th>\n",
       "      <td>./collection\\naturaleza.txt</td>\n",
       "      <td>0.000000</td>\n",
       "    </tr>\n",
       "    <tr>\n",
       "      <th>4</th>\n",
       "      <td>./collection\\salud.txt</td>\n",
       "      <td>0.000000</td>\n",
       "    </tr>\n",
       "  </tbody>\n",
       "</table>\n",
       "</div>"
      ],
      "text/plain": [
       "                      filepath     score\n",
       "0  ./collection\\tecnologia.txt  1.021651\n",
       "1     ./collection\\cultura.txt  0.510826\n",
       "2   ./collection\\educacion.txt  0.000000\n",
       "3  ./collection\\naturaleza.txt  0.000000\n",
       "4       ./collection\\salud.txt  0.000000"
      ]
     },
     "execution_count": 19,
     "metadata": {},
     "output_type": "execute_result"
    }
   ],
   "source": [
    "# Consulta de ejemplo\n",
    "query = input(\"Ingrese su consulta: \")\n",
    "\n",
    "# Busca documentos relevantes para la consulta\n",
    "results = search(query, index, idf, stop_words_list)\n",
    "\n",
    "table = pd.DataFrame(results, columns=[\"filepath\", \"score\"])\n",
    "# Imprime los resultados\n",
    "print(f\"Query: '{query}':\")\n",
    "table"
   ]
  }
 ],
 "metadata": {
  "kernelspec": {
   "display_name": ".venv",
   "language": "python",
   "name": "python3"
  },
  "language_info": {
   "codemirror_mode": {
    "name": "ipython",
    "version": 3
   },
   "file_extension": ".py",
   "mimetype": "text/x-python",
   "name": "python",
   "nbconvert_exporter": "python",
   "pygments_lexer": "ipython3",
   "version": "3.11.9"
  }
 },
 "nbformat": 4,
 "nbformat_minor": 2
}
