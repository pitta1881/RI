{
 "cells": [
  {
   "cell_type": "code",
   "execution_count": 1,
   "metadata": {},
   "outputs": [],
   "source": [
    "import os\n",
    "import re\n",
    "import json\n",
    "from langdetect import detect"
   ]
  },
  {
   "cell_type": "code",
   "execution_count": 2,
   "metadata": {},
   "outputs": [],
   "source": [
    "ENGLISH_FILE = '../languageIdentificationData/training/English'\n",
    "FRENCH_FILE = '../languageIdentificationData/training/French'\n",
    "ITALIAN_FILE = '../languageIdentificationData/training/Italian'\n",
    "TEST_FILE = '../languageIdentificationData/test'\n",
    "SOLUTION_FILE = '../languageIdentificationData/solution'"
   ]
  },
  {
   "cell_type": "code",
   "execution_count": 3,
   "metadata": {},
   "outputs": [],
   "source": [
    "def dist_freq(content):\n",
    "    letter_dict = {}\n",
    "    content = content.lower()\n",
    "    for letter in content:\n",
    "        if re.match(r'[a-z]', letter):\n",
    "            letter_dict[letter] = letter_dict[letter] + 1 if letter in letter_dict else 1\n",
    "    letter_dict = dict(sorted(letter_dict.items(), key=lambda x:x[0]))\n",
    "    total_char = sum(letter_dict.values())\n",
    "    frequencies = {letter: letter_dict[letter] / total_char * 100 for letter in letter_dict}\n",
    "    return frequencies"
   ]
  },
  {
   "cell_type": "code",
   "execution_count": 4,
   "metadata": {},
   "outputs": [],
   "source": [
    "def train_model(file):\n",
    "    frequencies = {}\n",
    "    with open(os.path.abspath(file), 'r', encoding='iso8859') as f:\n",
    "        frequencies = dist_freq(f.read())\n",
    "    return frequencies\n"
   ]
  },
  {
   "cell_type": "code",
   "execution_count": 5,
   "metadata": {},
   "outputs": [],
   "source": [
    "def identify_lang(file, lang_freq):\n",
    "    dict_line_lang = {}\n",
    "    with open(os.path.abspath(file), 'r', encoding='iso8859') as f:\n",
    "        for idx, line in enumerate(f):\n",
    "            content = line.lower()\n",
    "            line_freq = dist_freq(content)\n",
    "            best_lang = None\n",
    "            best_diff = float('inf')\n",
    "            for lang, this_lang_freq in lang_freq.items():\n",
    "                diff = sum(abs(line_freq.get(letra, 0) - this_lang_freq.get(letra, 0)) for letra in set(line_freq) | set(this_lang_freq))\n",
    "                if diff < best_diff:\n",
    "                    best_lang = lang\n",
    "                    best_diff = diff\n",
    "            dict_line_lang[idx+1] = best_lang\n",
    "    return dict_line_lang\n"
   ]
  },
  {
   "cell_type": "code",
   "execution_count": 6,
   "metadata": {},
   "outputs": [],
   "source": [
    "def count_matches(dictionary, file_name):\n",
    "    matches = 0\n",
    "    # Open the file in read mode\n",
    "    with open(file_name, 'r') as file:\n",
    "        # Iterate over each line in the file\n",
    "        for line in file:\n",
    "            # Get the number and language from the line in the file\n",
    "            number, language = line.strip().split(' ', 1)\n",
    "            # Check if the language matches the value in the dictionary\n",
    "            if dictionary[int(number)] == language:\n",
    "                matches += 1\n",
    "    return matches"
   ]
  },
  {
   "cell_type": "code",
   "execution_count": 7,
   "metadata": {},
   "outputs": [],
   "source": [
    "def identify_lang_langdetect(file):\n",
    "    map_lang = {'en': 'English', 'fr': 'French', 'it': 'Italian', 'other': 'other'}\n",
    "    dict_line_lang = {}\n",
    "    with open(os.path.abspath(file), 'r', encoding='iso8859') as f:\n",
    "        for idx, line in enumerate(f):\n",
    "            content = line.lower()\n",
    "            lang_detected = detect(content)\n",
    "            dict_line_lang[idx+1] = map_lang[lang_detected] if (lang_detected in map_lang) else 'other'\n",
    "    return dict_line_lang"
   ]
  },
  {
   "cell_type": "code",
   "execution_count": 8,
   "metadata": {},
   "outputs": [
    {
     "name": "stdout",
     "output_type": "stream",
     "text": [
      "Matches: 262\n",
      "Matches Langdetect: 298\n"
     ]
    }
   ],
   "source": [
    "lang_freq = {\n",
    "    'English': train_model(ENGLISH_FILE),\n",
    "    'French': train_model(FRENCH_FILE),\n",
    "    'Italian': train_model(ITALIAN_FILE)\n",
    "}\n",
    "dict_lines_lang = identify_lang(TEST_FILE, lang_freq)\n",
    "dict_lines_lang_langdetect = identify_lang_langdetect(TEST_FILE)\n",
    "# print(json.dumps(dict_lines_lang, indent=2))\n",
    "print(f'Matches: {count_matches(dict_lines_lang, SOLUTION_FILE)}')\n",
    "print(f'Matches Langdetect: {count_matches(dict_lines_lang_langdetect, SOLUTION_FILE)}')\n"
   ]
  },
  {
   "cell_type": "markdown",
   "metadata": {},
   "source": [
    "El algoritmo propio nos matcheó correctamente el 87,3% de las lineas mientras que la libreria langdetect detectó un 98.6%."
   ]
  }
 ],
 "metadata": {
  "kernelspec": {
   "display_name": ".venv",
   "language": "python",
   "name": "python3"
  },
  "language_info": {
   "codemirror_mode": {
    "name": "ipython",
    "version": 3
   },
   "file_extension": ".py",
   "mimetype": "text/x-python",
   "name": "python",
   "nbconvert_exporter": "python",
   "pygments_lexer": "ipython3",
   "version": "3.11.9"
  }
 },
 "nbformat": 4,
 "nbformat_minor": 2
}
